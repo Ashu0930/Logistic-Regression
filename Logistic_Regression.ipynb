{
  "nbformat": 4,
  "nbformat_minor": 0,
  "metadata": {
    "colab": {
      "provenance": []
    },
    "kernelspec": {
      "name": "python3",
      "display_name": "Python 3"
    },
    "language_info": {
      "name": "python"
    }
  },
  "cells": [
    {
      "cell_type": "markdown",
      "source": [
        "# **Logistic Regression**"
      ],
      "metadata": {
        "id": "4iWvryPwJ815"
      }
    },
    {
      "cell_type": "markdown",
      "source": [
        "\n",
        "#Theoretical"
      ],
      "metadata": {
        "id": "Ed7NeTL8J2lP"
      }
    },
    {
      "cell_type": "markdown",
      "source": [
        "**1. What is Logistic Regression, and how does it differ from Linear Regression.**"
      ],
      "metadata": {
        "id": "-IgvXcjDxsmq"
      }
    },
    {
      "cell_type": "markdown",
      "source": [
        "-> Logistic regression and linear regression are both used to model relationships between variables, but they serve different purposes. Linear regression is used for regression problems where the outcome variable is continuous, while logistic regression is used for classification problems where the outcome variable is categorical. In essence, linear regression predicts a value on a continuous scale, whereas logistic regression predicts the probability of belonging to a specific class."
      ],
      "metadata": {
        "id": "XIKD95u_yEx4"
      }
    },
    {
      "cell_type": "markdown",
      "source": [
        "**2. What is the mathematical equation of Logistic Regression.**"
      ],
      "metadata": {
        "id": "x_Ub5EDdyPlQ"
      }
    },
    {
      "cell_type": "markdown",
      "source": [
        "-> The mathematical equation for logistic regression models the probability of an event occurring given a set of input features. It uses the logistic function (also known as the sigmoid function) to transform a linear combination of input features into a probability between 0 and 1."
      ],
      "metadata": {
        "id": "HJq3n4_zyW43"
      }
    },
    {
      "cell_type": "markdown",
      "source": [
        "**3. Why do we use the Sigmoid function in Logistic Regression.**"
      ],
      "metadata": {
        "id": "ul7NOsSO0cX_"
      }
    },
    {
      "cell_type": "markdown",
      "source": [
        "-> In logistic regression, the sigmoid function is used because it effectively transforms the linear combination of input features into a probability value between 0 and 1, which is essential for binary classification tasks. This makes it suitable for modeling the likelihood that a given input belongs to a particular class. The sigmoid function is also smooth and differentiable, which allows optimization algorithms like gradient descent to work efficiently. Additionally, it provides a clear decision boundary and has a strong foundation in probability theory through its connection to log-odds, making it both mathematically sound and practically effective for classification problems."
      ],
      "metadata": {
        "id": "l2LrUgx01AFw"
      }
    },
    {
      "cell_type": "markdown",
      "source": [
        "**4. What is the cost function of Logistic Regression.**"
      ],
      "metadata": {
        "id": "Qe-wYbTh1DPm"
      }
    },
    {
      "cell_type": "markdown",
      "source": [
        "-> The cost function in Logistic Regression measures how well the model’s predicted probabilities match the actual class labels. Since logistic regression deals with probabilities and classification, we use a cost function designed for this purpose, called the Log Loss or Binary Cross-Entropy Loss."
      ],
      "metadata": {
        "id": "x43V-Crx1If1"
      }
    },
    {
      "cell_type": "markdown",
      "source": [
        "**5. What is Regularization in Logistic Regression? Why is it needed.**\n"
      ],
      "metadata": {
        "id": "aRYTLeJZ1e0e"
      }
    },
    {
      "cell_type": "markdown",
      "source": [
        "-> Regularization in logistic regression is a technique used to prevent overfitting by adding a penalty term to the cost function. It discourages the model from assigning too much importance (i.e., large weights) to any single feature.\n",
        "\n",
        "Why is Regularization Needed? : -\n",
        "- Overfitting happens when the model fits the training data too closely, - - capturing noise instead of general patterns.\n",
        "\n",
        "- This leads to poor performance on unseen data (low generalization).\n",
        "- Regularization helps the model to stay simpler and focus on the most relevant features.\n"
      ],
      "metadata": {
        "id": "YVxlOdfQ1-7N"
      }
    },
    {
      "cell_type": "markdown",
      "source": [
        "**6. Explain the difference between Lasso, Ridge, and Elastic Net regression.**"
      ],
      "metadata": {
        "id": "YkZPLuEh3CKV"
      }
    },
    {
      "cell_type": "markdown",
      "source": [
        "-> Ridge, Lasso, and Elastic Net are regularization techniques used to prevent overfitting in regression models. Ridge regression (L2) penalizes the squared magnitude of coefficients, shrinking them but keeping all features. Lasso regression (L1) penalizes the absolute value of coefficients, which can shrink some to zero, effectively performing feature selection. Elastic Net combines both L1 and L2 penalties, providing a balance between Ridge's stability and Lasso's sparsity. It is especially useful when dealing with many correlated features. Choosing between them depends on the data and the desired model characteristics."
      ],
      "metadata": {
        "id": "Sb5F0UaU3REc"
      }
    },
    {
      "cell_type": "markdown",
      "source": [
        "**7. When should we use Elastic Net instead of Lasso or Ridge.**"
      ],
      "metadata": {
        "id": "1C-c1ZFH3TpE"
      }
    },
    {
      "cell_type": "markdown",
      "source": [
        "-> Elastic Net should be used when you have many features, especially if they are highly correlated or when the number of features exceeds the number of observations. It provides a compromise between Lasso’s feature selection and Ridge’s stability, making it more robust in real-world datasets where noise and multicollinearity are present. If you find that Lasso is too aggressive in eliminating variables or Ridge isn’t performing any feature selection, Elastic Net is often the better choice."
      ],
      "metadata": {
        "id": "O7H4Csy83ckN"
      }
    },
    {
      "cell_type": "markdown",
      "source": [
        "**8. What is the impact of the regularization parameter (λ) in Logistic Regression.**"
      ],
      "metadata": {
        "id": "QQJCXsJY3dFO"
      }
    },
    {
      "cell_type": "markdown",
      "source": [
        "-> In logistic regression, the regularization parameter λ controls the trade-off between fitting the training data well and keeping the model weights small to prevent overfitting. A small λ allows the model to fit the data more closely, which can lead to overfitting, while a large λ imposes a stronger penalty on large coefficients, promoting simpler models that may underfit the data. Selecting the right λ is crucial for balancing model complexity and generalization, and it's typically chosen through techniques like cross-validation."
      ],
      "metadata": {
        "id": "RPaDJpWk3qEF"
      }
    },
    {
      "cell_type": "markdown",
      "source": [
        "**9. What are the key assumptions of Logistic Regression.**"
      ],
      "metadata": {
        "id": "u_x-kSjq3qeE"
      }
    },
    {
      "cell_type": "markdown",
      "source": [
        "-> Logistic regression assumes that the dependent variable is binary and that the observations are independent. It requires a linear relationship between the independent variables and the log-odds of the outcome, and it assumes little or no multicollinearity among predictors. Additionally, a sufficiently large sample size is important for reliable estimates. Ensuring these assumptions hold helps the logistic regression model produce valid, interpretable, and generalizable results."
      ],
      "metadata": {
        "id": "RysWFHIC4Bek"
      }
    },
    {
      "cell_type": "markdown",
      "source": [
        "**10. What are some alternatives to Logistic Regression for classification tasks.**"
      ],
      "metadata": {
        "id": "ywEBCKj435Fk"
      }
    },
    {
      "cell_type": "markdown",
      "source": [
        "-> While logistic regression is a solid baseline for binary classification, alternatives like decision trees, random forests, SVMs, k-NN, Naive Bayes, neural networks, and gradient boosting methods can be better suited for complex, non-linear, or high-dimensional data. The choice depends on factors like interpretability, dataset size, feature types, and the specific problem you’re trying to solve."
      ],
      "metadata": {
        "id": "bEvvHFK94OIE"
      }
    },
    {
      "cell_type": "markdown",
      "source": [
        "**11.  What are Classification Evaluation Metrics.**"
      ],
      "metadata": {
        "id": "FK5SCs8K39A2"
      }
    },
    {
      "cell_type": "markdown",
      "source": [
        "-> Classification evaluation metrics help quantify how well a model predicts class labels. Accuracy measures overall correctness but can be misleading with imbalanced data. Precision and recall focus on the quality of positive predictions, while the F1 score balances the two. The confusion matrix breaks down prediction errors, and ROC-AUC measures how well the model distinguishes between classes across thresholds. Log loss evaluates the quality of predicted probabilities. Choosing the right metric depends on the specific problem and costs associated with different types of errors."
      ],
      "metadata": {
        "id": "HtIl0chV4U17"
      }
    },
    {
      "cell_type": "markdown",
      "source": [
        "**12. How does class imbalance affect Logistic Regression.**"
      ],
      "metadata": {
        "id": "Nt-2HiLN4XzD"
      }
    },
    {
      "cell_type": "markdown",
      "source": [
        "-> Class imbalance can cause logistic regression to bias predictions toward the majority class, resulting in poor detection and prediction for the minority class. This leads to misleadingly high accuracy but low recall or precision on minority samples. Addressing this requires techniques like resampling, using class weights, or focusing on metrics that better reflect minority class performance to ensure the model learns meaningful patterns across all classes."
      ],
      "metadata": {
        "id": "jwk5PPDN4c8E"
      }
    },
    {
      "cell_type": "markdown",
      "source": [
        "**13. What is Hyperparameter Tuning in Logistic Regression.**"
      ],
      "metadata": {
        "id": "_eU9FGeB4hGV"
      }
    },
    {
      "cell_type": "markdown",
      "source": [
        "-> Hyperparameter tuning in logistic regression involves finding the best values for parameters like regularization strength, regularization type, and solver choice to improve model performance. Since these hyperparameters control model complexity and learning behavior, tuning them is essential to avoid overfitting or underfitting. Techniques such as grid search and random search are commonly used to systematically explore the hyperparameter space and identify the optimal settings.\n",
        "\n"
      ],
      "metadata": {
        "id": "tTLzSMXU4nAL"
      }
    },
    {
      "cell_type": "markdown",
      "source": [
        "**14. What are different solvers in Logistic Regression? Which one should be used.**"
      ],
      "metadata": {
        "id": "Wj71Teeu4pnb"
      }
    },
    {
      "cell_type": "markdown",
      "source": [
        "-> Logistic regression solvers are optimization algorithms that find the best coefficients. The choice of solver depends on dataset size, regularization type, and computational efficiency. For small datasets or when using L1 regularization, liblinear is preferred. For medium to large datasets with L2 regularization, lbfgs is a solid default choice. For very large or sparse datasets and when elastic net regularization is needed, saga is ideal. Other solvers like newton-cg and sag are also options for large datasets with L2 regularization. Selecting the right solver ensures faster convergence and better handling of your data characteristics."
      ],
      "metadata": {
        "id": "xo7TltNeG_XK"
      }
    },
    {
      "cell_type": "markdown",
      "source": [
        "**15. How is Logistic Regression extended for multiclass classification.**"
      ],
      "metadata": {
        "id": "mkSNLO-JHBsS"
      }
    },
    {
      "cell_type": "markdown",
      "source": [
        "-> Logistic regression can be extended for multiclass classification using strategies like One-vs-Rest (OvR), which builds separate binary classifiers for each class, or Multinomial Logistic Regression, which uses the softmax function to model all classes in a single model. While OvR is simpler and works well for many cases, the multinomial approach is generally more accurate when classes are mutually exclusive. Scikit-learn supports both methods, and the choice depends on dataset characteristics and computational resources.\n",
        "\n"
      ],
      "metadata": {
        "id": "5Qry3zbrHFFi"
      }
    },
    {
      "cell_type": "markdown",
      "source": [
        "**16. What are the advantages and disadvantages of Logistic Regression.**\n"
      ],
      "metadata": {
        "id": "9lcGgK4RHmOS"
      }
    },
    {
      "cell_type": "markdown",
      "source": [
        "-> Logistic regression is a simple, fast, and interpretable classification algorithm that performs well on linearly separable problems and provides probabilistic outputs. It supports extensions for multiclass problems and includes regularization to control overfitting. However, it assumes a linear relationship between features and log-odds, is sensitive to outliers, and may underperform on complex or non-linear datasets compared to more advanced models. Proper preprocessing and regularization are essential to overcome these limitations and achieve good performance.\n",
        "\n"
      ],
      "metadata": {
        "id": "PInPb4snIaj6"
      }
    },
    {
      "cell_type": "markdown",
      "source": [
        "**17. What are some use cases of Logistic Regression.**"
      ],
      "metadata": {
        "id": "G_VrolBtIerr"
      }
    },
    {
      "cell_type": "markdown",
      "source": [
        "-> Logistic regression is widely used in domains like healthcare, finance, marketing, HR, and cybersecurity for binary and multiclass classification tasks. It's commonly applied to medical diagnosis, credit scoring, customer churn prediction, spam detection, fraud detection, and more. Its simplicity, efficiency, and ability to produce interpretable probability-based outputs make it a strong choice for many real-world applications where classification and decision-making are needed.\n",
        "\n"
      ],
      "metadata": {
        "id": "H3xoor2PIoWq"
      }
    },
    {
      "cell_type": "markdown",
      "source": [
        "**18. What is the difference between Softmax Regression and Logistic Regression.**"
      ],
      "metadata": {
        "id": "bt5IxS6bIv2c"
      }
    },
    {
      "cell_type": "markdown",
      "source": [
        "-> Logistic regression is designed for binary classification problems and uses the sigmoid function to estimate the probability of one of two classes. In contrast, softmax regression, also known as multinomial logistic regression, extends this idea to handle multiclass classification by using the softmax function to predict the probabilities of each class. While logistic regression outputs a single probability, softmax regression outputs a probability distribution over all possible classes. Both methods share similar foundations, but softmax regression generalizes logistic regression for problems with more than two mutually exclusive outcomes.\n",
        "\n"
      ],
      "metadata": {
        "id": "_iPPJhxjIzBR"
      }
    },
    {
      "cell_type": "markdown",
      "source": [
        "**19. How do we choose between One-vs-Rest (OvR) and Softmax for multiclass classification.**\n"
      ],
      "metadata": {
        "id": "8DLcZr2BI0E5"
      }
    },
    {
      "cell_type": "markdown",
      "source": [
        "-> Choosing between One-vs-Rest and Softmax for multiclass classification depends on the problem context. One-vs-Rest is simpler, easy to interpret, and suitable when classes are imbalanced or not mutually exclusive. Softmax (multinomial logistic regression), on the other hand, provides a more coherent probability distribution across all classes and often performs better when classes are mutually exclusive. It captures relationships between classes more effectively and is preferred when supported by the solver and data. Overall, Softmax is a stronger choice for most multiclass problems unless there's a specific need for class-wise model control.\n",
        "\n"
      ],
      "metadata": {
        "id": "Jjr7cXJvI3g5"
      }
    },
    {
      "cell_type": "markdown",
      "source": [
        "**20. How do we interpret coefficients in Logistic Regression.**"
      ],
      "metadata": {
        "id": "vYUWNYn9I5hr"
      }
    },
    {
      "cell_type": "markdown",
      "source": [
        "-> In logistic regression, each coefficient represents the change in the log-odds of the target variable for a one-unit increase in the corresponding feature. A positive coefficient increases the probability of the positive class, while a negative one decreases it. The exponentiated coefficient gives the odds ratio, which quantifies how much the odds change per unit increase in the feature. Interpreting coefficients effectively requires understanding their direction, scale, and effect on predicted probabilities, often aided by standardizing features and examining odds ratios."
      ],
      "metadata": {
        "id": "9-kexAAlJuNv"
      }
    },
    {
      "cell_type": "markdown",
      "source": [
        "# Practical"
      ],
      "metadata": {
        "id": "xRF6n6mzJvcy"
      }
    },
    {
      "cell_type": "markdown",
      "source": [
        "**1. Write a Python program that loads a dataset, splits it into training and testing sets, applies Logistic Regression, and prints the model accuracy.**"
      ],
      "metadata": {
        "id": "8ln3RNduJ0ET"
      }
    },
    {
      "cell_type": "code",
      "source": [
        "# Import necessary libraries\n",
        "from sklearn.datasets import load_iris\n",
        "from sklearn.model_selection import train_test_split\n",
        "from sklearn.linear_model import LogisticRegression\n",
        "from sklearn.metrics import accuracy_score\n",
        "\n",
        "# Load dataset\n",
        "iris = load_iris()\n",
        "X = iris.data\n",
        "y = iris.target\n",
        "\n",
        "# Split into training and testing sets (80% train, 20% test)\n",
        "X_train, X_test, y_train, y_test = train_test_split(X, y, test_size=0.2, random_state=42)\n",
        "\n",
        "# Create and train the Logistic Regression model\n",
        "model = LogisticRegression(multi_class='multinomial', solver='lbfgs', max_iter=200)\n",
        "model.fit(X_train, y_train)\n",
        "\n",
        "# Predict on the test set\n",
        "y_pred = model.predict(X_test)\n",
        "\n",
        "# Calculate and print accuracy\n",
        "accuracy = accuracy_score(y_test, y_pred)\n",
        "print(\"Logistic Regression Model Accuracy:\", accuracy)\n"
      ],
      "metadata": {
        "colab": {
          "base_uri": "https://localhost:8080/"
        },
        "id": "1gsn4EBn_e0k",
        "outputId": "7a16c113-13ab-4fc7-f2df-e75742a9b963"
      },
      "execution_count": 1,
      "outputs": [
        {
          "output_type": "stream",
          "name": "stderr",
          "text": [
            "/usr/local/lib/python3.11/dist-packages/sklearn/linear_model/_logistic.py:1247: FutureWarning: 'multi_class' was deprecated in version 1.5 and will be removed in 1.7. From then on, it will always use 'multinomial'. Leave it to its default value to avoid this warning.\n",
            "  warnings.warn(\n"
          ]
        },
        {
          "output_type": "stream",
          "name": "stdout",
          "text": [
            "Logistic Regression Model Accuracy: 1.0\n"
          ]
        }
      ]
    },
    {
      "cell_type": "markdown",
      "source": [
        "**2. Write a Python program to apply L1 regularization (Lasso) on a dataset using LogisticRegression(penalty='l1') and print the model accuracy.**"
      ],
      "metadata": {
        "id": "QYVW2kdL_4Ty"
      }
    },
    {
      "cell_type": "code",
      "source": [
        "# Import necessary libraries\n",
        "from sklearn.datasets import load_breast_cancer\n",
        "from sklearn.model_selection import train_test_split\n",
        "from sklearn.linear_model import LogisticRegression\n",
        "from sklearn.metrics import accuracy_score\n",
        "\n",
        "# Load the dataset\n",
        "data = load_breast_cancer()\n",
        "X = data.data\n",
        "y = data.target\n",
        "\n",
        "# Split dataset into training and testing sets\n",
        "X_train, X_test, y_train, y_test = train_test_split(X, y, test_size=0.2, random_state=42)\n",
        "\n",
        "# Create Logistic Regression model with L1 regularization\n",
        "model = LogisticRegression(penalty='l1', solver='liblinear', C=1.0, max_iter=1000)\n",
        "\n",
        "# Fit the model\n",
        "model.fit(X_train, y_train)\n",
        "\n",
        "# Predict on test data\n",
        "y_pred = model.predict(X_test)\n",
        "\n",
        "# Calculate and print accuracy\n",
        "accuracy = accuracy_score(y_test, y_pred)\n",
        "print(\"Logistic Regression with L1 Regularization Accuracy:\", accuracy)\n"
      ],
      "metadata": {
        "colab": {
          "base_uri": "https://localhost:8080/"
        },
        "id": "9K5flB7A_3bL",
        "outputId": "f809ddb5-85fc-4594-a76f-f293d89e86f1"
      },
      "execution_count": 2,
      "outputs": [
        {
          "output_type": "stream",
          "name": "stdout",
          "text": [
            "Logistic Regression with L1 Regularization Accuracy: 0.956140350877193\n"
          ]
        }
      ]
    },
    {
      "cell_type": "markdown",
      "source": [
        "**3.  Write a Python program to train Logistic Regression with L2 regularization (Ridge) using LogisticRegression(penalty='l2'). Print model accuracy and coefficients.**"
      ],
      "metadata": {
        "id": "HTSdRDJtALds"
      }
    },
    {
      "cell_type": "code",
      "source": [
        "# Import necessary libraries\n",
        "from sklearn.datasets import load_breast_cancer\n",
        "from sklearn.model_selection import train_test_split\n",
        "from sklearn.linear_model import LogisticRegression\n",
        "from sklearn.metrics import accuracy_score\n",
        "import numpy as np\n",
        "\n",
        "# Load the dataset\n",
        "data = load_breast_cancer()\n",
        "X = data.data\n",
        "y = data.target\n",
        "feature_names = data.feature_names\n",
        "\n",
        "# Split into training and testing sets\n",
        "X_train, X_test, y_train, y_test = train_test_split(X, y, test_size=0.2, random_state=42)\n",
        "\n",
        "# Create Logistic Regression model with L2 regularization (Ridge)\n",
        "model = LogisticRegression(penalty='l2', solver='liblinear', C=1.0, max_iter=1000)\n",
        "\n",
        "# Fit the model\n",
        "model.fit(X_train, y_train)\n",
        "\n",
        "# Predict on the test set\n",
        "y_pred = model.predict(X_test)\n",
        "\n",
        "# Calculate and print accuracy\n",
        "accuracy = accuracy_score(y_test, y_pred)\n",
        "print(\"Logistic Regression with L2 Regularization Accuracy:\", accuracy)\n",
        "\n",
        "# Print coefficients for each feature\n",
        "print(\"\\nModel Coefficients (L2):\")\n",
        "for feature, coef in zip(feature_names, model.coef_[0]):\n",
        "    print(f\"{feature}: {coef:.4f}\")\n"
      ],
      "metadata": {
        "id": "RSKjk9ruAIMX"
      },
      "execution_count": null,
      "outputs": []
    },
    {
      "cell_type": "markdown",
      "source": [
        "**4. Write a Python program to train Logistic Regression with Elastic Net Regularization (penalty='elasticnet').**"
      ],
      "metadata": {
        "id": "xyNmjSBtAZ4N"
      }
    },
    {
      "cell_type": "code",
      "source": [
        "# Import libraries\n",
        "from sklearn.datasets import load_breast_cancer\n",
        "from sklearn.model_selection import train_test_split\n",
        "from sklearn.linear_model import LogisticRegression\n",
        "from sklearn.metrics import accuracy_score\n",
        "import numpy as np\n",
        "\n",
        "# Load dataset\n",
        "data = load_breast_cancer()\n",
        "X = data.data\n",
        "y = data.target\n",
        "feature_names = data.feature_names\n",
        "\n",
        "# Split into training and testing sets\n",
        "X_train, X_test, y_train, y_test = train_test_split(X, y, test_size=0.2, random_state=42)\n",
        "\n",
        "# Create Logistic Regression model with Elastic Net Regularization\n",
        "model = LogisticRegression(\n",
        "    penalty='elasticnet',\n",
        "    solver='saga',          # saga is required for elasticnet\n",
        "    l1_ratio=0.5,           # 0 = Ridge, 1 = Lasso; 0.5 is a balanced Elastic Net\n",
        "    C=1.0,                  # Regularization strength (lower = stronger regularization)\n",
        "    max_iter=1000\n",
        ")\n",
        "\n",
        "# Train the model\n",
        "model.fit(X_train, y_train)\n",
        "\n",
        "# Predict on the test set\n",
        "y_pred = model.predict(X_test)\n",
        "\n",
        "# Calculate and print accuracy\n",
        "accuracy = accuracy_score(y_test, y_pred)\n",
        "print(\"Logistic Regression with Elastic Net Regularization Accuracy:\", accuracy)\n",
        "\n",
        "# Print coefficients\n",
        "print(\"\\nModel Coefficients (Elastic Net):\")\n",
        "for feature, coef in zip(feature_names, model.coef_[0]):\n",
        "    print(f\"{feature}: {coef:.4f}\")\n"
      ],
      "metadata": {
        "colab": {
          "base_uri": "https://localhost:8080/"
        },
        "id": "fPZOniK7AgF_",
        "outputId": "4c404a53-f9f0-44f7-9217-ecff4b953d8c"
      },
      "execution_count": 3,
      "outputs": [
        {
          "output_type": "stream",
          "name": "stdout",
          "text": [
            "Logistic Regression with Elastic Net Regularization Accuracy: 0.9649122807017544\n",
            "\n",
            "Model Coefficients (Elastic Net):\n",
            "mean radius: 0.0090\n",
            "mean texture: 0.0100\n",
            "mean perimeter: 0.0509\n",
            "mean area: 0.0158\n",
            "mean smoothness: 0.0000\n",
            "mean compactness: -0.0001\n",
            "mean concavity: -0.0002\n",
            "mean concave points: -0.0001\n",
            "mean symmetry: 0.0001\n",
            "mean fractal dimension: 0.0000\n",
            "radius error: 0.0001\n",
            "texture error: 0.0009\n",
            "perimeter error: -0.0000\n",
            "area error: -0.0135\n",
            "smoothness error: 0.0000\n",
            "compactness error: 0.0000\n",
            "concavity error: -0.0000\n",
            "concave points error: 0.0000\n",
            "symmetry error: 0.0000\n",
            "fractal dimension error: 0.0000\n",
            "worst radius: 0.0094\n",
            "worst texture: 0.0111\n",
            "worst perimeter: 0.0489\n",
            "worst area: -0.0245\n",
            "worst smoothness: 0.0001\n",
            "worst compactness: -0.0003\n",
            "worst concavity: -0.0005\n",
            "worst concave points: -0.0001\n",
            "worst symmetry: 0.0001\n",
            "worst fractal dimension: 0.0000\n"
          ]
        },
        {
          "output_type": "stream",
          "name": "stderr",
          "text": [
            "/usr/local/lib/python3.11/dist-packages/sklearn/linear_model/_sag.py:348: ConvergenceWarning: The max_iter was reached which means the coef_ did not converge\n",
            "  warnings.warn(\n"
          ]
        }
      ]
    },
    {
      "cell_type": "markdown",
      "source": [
        "**5. Write a Python program to train a Logistic Regression model for multiclass classification using multi_class='ovr'.**"
      ],
      "metadata": {
        "id": "v6lTAjfdAgdF"
      }
    },
    {
      "cell_type": "code",
      "source": [
        "# Import required libraries\n",
        "from sklearn.datasets import load_iris\n",
        "from sklearn.model_selection import train_test_split\n",
        "from sklearn.linear_model import LogisticRegression\n",
        "from sklearn.metrics import accuracy_score\n",
        "\n",
        "# Load the Iris dataset\n",
        "iris = load_iris()\n",
        "X = iris.data\n",
        "y = iris.target\n",
        "target_names = iris.target_names\n",
        "\n",
        "# Split into train and test sets\n",
        "X_train, X_test, y_train, y_test = train_test_split(X, y, test_size=0.2, random_state=42)\n",
        "\n",
        "# Create Logistic Regression model with One-vs-Rest strategy\n",
        "model = LogisticRegression(multi_class='ovr', solver='liblinear', max_iter=200)\n",
        "\n",
        "# Train the model\n",
        "model.fit(X_train, y_train)\n",
        "\n",
        "# Predict on test set\n",
        "y_pred = model.predict(X_test)\n",
        "\n",
        "# Calculate accuracy\n",
        "accuracy = accuracy_score(y_test, y_pred)\n",
        "print(\"Multiclass Logistic Regression (OvR) Accuracy:\", accuracy)\n",
        "\n",
        "# Print predicted class names for test set\n",
        "print(\"\\nPredicted Class Names:\")\n",
        "print([target_names[i] for i in y_pred])\n"
      ],
      "metadata": {
        "colab": {
          "base_uri": "https://localhost:8080/"
        },
        "id": "aYk31RaYAyXE",
        "outputId": "1076d787-c466-4f52-b25f-197436a4397f"
      },
      "execution_count": 4,
      "outputs": [
        {
          "output_type": "stream",
          "name": "stdout",
          "text": [
            "Multiclass Logistic Regression (OvR) Accuracy: 1.0\n",
            "\n",
            "Predicted Class Names:\n",
            "[np.str_('versicolor'), np.str_('setosa'), np.str_('virginica'), np.str_('versicolor'), np.str_('versicolor'), np.str_('setosa'), np.str_('versicolor'), np.str_('virginica'), np.str_('versicolor'), np.str_('versicolor'), np.str_('virginica'), np.str_('setosa'), np.str_('setosa'), np.str_('setosa'), np.str_('setosa'), np.str_('versicolor'), np.str_('virginica'), np.str_('versicolor'), np.str_('versicolor'), np.str_('virginica'), np.str_('setosa'), np.str_('virginica'), np.str_('setosa'), np.str_('virginica'), np.str_('virginica'), np.str_('virginica'), np.str_('virginica'), np.str_('virginica'), np.str_('setosa'), np.str_('setosa')]\n"
          ]
        },
        {
          "output_type": "stream",
          "name": "stderr",
          "text": [
            "/usr/local/lib/python3.11/dist-packages/sklearn/linear_model/_logistic.py:1256: FutureWarning: 'multi_class' was deprecated in version 1.5 and will be removed in 1.7. Use OneVsRestClassifier(LogisticRegression(..)) instead. Leave it to its default value to avoid this warning.\n",
            "  warnings.warn(\n"
          ]
        }
      ]
    },
    {
      "cell_type": "markdown",
      "source": [
        "**6.  Write a Python program to apply GridSearchCV to tune the hyperparameters (C and penalty) of Logistic Regression. Print the best parameters and accuracy.**"
      ],
      "metadata": {
        "id": "8sX9HAZHArTe"
      }
    },
    {
      "cell_type": "code",
      "source": [
        "# Import necessary libraries\n",
        "from sklearn.datasets import load_breast_cancer\n",
        "from sklearn.model_selection import train_test_split, GridSearchCV\n",
        "from sklearn.linear_model import LogisticRegression\n",
        "from sklearn.metrics import accuracy_score\n",
        "\n",
        "# Load dataset\n",
        "data = load_breast_cancer()\n",
        "X = data.data\n",
        "y = data.target\n",
        "\n",
        "# Split into training and testing sets\n",
        "X_train, X_test, y_train, y_test = train_test_split(X, y, test_size=0.2, random_state=42)\n",
        "\n",
        "# Define parameter grid for GridSearchCV\n",
        "param_grid = {\n",
        "    'C': [0.01, 0.1, 1, 10],                  # Regularization strength\n",
        "    'penalty': ['l1', 'l2'],                  # Type of regularization\n",
        "    'solver': ['liblinear']                   # liblinear supports both l1 and l2\n",
        "}\n",
        "\n",
        "# Create a Logistic Regression model\n",
        "log_reg = LogisticRegression(max_iter=1000)\n",
        "\n",
        "# Perform grid search\n",
        "grid_search = GridSearchCV(log_reg, param_grid, cv=5, scoring='accuracy')\n",
        "grid_search.fit(X_train, y_train)\n",
        "\n",
        "# Get best parameters and best estimator\n",
        "best_model = grid_search.best_estimator_\n",
        "best_params = grid_search.best_params_\n",
        "\n",
        "# Evaluate on test data\n",
        "y_pred = best_model.predict(X_test)\n",
        "accuracy = accuracy_score(y_test, y_pred)\n",
        "\n",
        "# Print results\n",
        "print(\"Best Parameters:\", best_params)\n",
        "print(\"Test Accuracy with Best Parameters:\", accuracy)\n"
      ],
      "metadata": {
        "colab": {
          "base_uri": "https://localhost:8080/"
        },
        "id": "25een_TiAuc6",
        "outputId": "de46b153-7369-4f2f-9323-1dd62ff98c31"
      },
      "execution_count": 25,
      "outputs": [
        {
          "output_type": "stream",
          "name": "stdout",
          "text": [
            "Best Parameters: {'C': 10, 'penalty': 'l2', 'solver': 'liblinear'}\n",
            "Test Accuracy with Best Parameters: 0.956140350877193\n"
          ]
        }
      ]
    },
    {
      "cell_type": "markdown",
      "source": [
        "7. Write a Python program to evaluate Logistic Regression using Stratified K-Fold Cross-Validation. Print the average accuracy."
      ],
      "metadata": {
        "id": "IbEt5H7wA_2c"
      }
    },
    {
      "cell_type": "code",
      "source": [
        "# Import necessary libraries\n",
        "from sklearn.datasets import load_breast_cancer\n",
        "from sklearn.linear_model import LogisticRegression\n",
        "from sklearn.model_selection import StratifiedKFold, cross_val_score\n",
        "import numpy as np\n",
        "\n",
        "# Load dataset\n",
        "data = load_breast_cancer()\n",
        "X = data.data\n",
        "y = data.target\n",
        "\n",
        "# Define Logistic Regression model\n",
        "model = LogisticRegression(solver='liblinear', max_iter=1000)\n",
        "\n",
        "# Define Stratified K-Fold cross-validator\n",
        "skf = StratifiedKFold(n_splits=5, shuffle=True, random_state=42)\n",
        "\n",
        "# Evaluate model using cross-validation\n",
        "scores = cross_val_score(model, X, y, cv=skf, scoring='accuracy')\n",
        "\n",
        "# Print individual fold scores and average accuracy\n",
        "print(\"Stratified K-Fold Accuracies:\", scores)\n",
        "print(\"Average Accuracy:\", np.mean(scores))\n"
      ],
      "metadata": {
        "colab": {
          "base_uri": "https://localhost:8080/"
        },
        "id": "PKkzJ8SwBL0s",
        "outputId": "2c7ac188-5524-4bd4-9a66-fb2556c1d8bb"
      },
      "execution_count": 24,
      "outputs": [
        {
          "output_type": "stream",
          "name": "stdout",
          "text": [
            "Stratified K-Fold Accuracies: [0.94736842 0.92105263 0.95614035 0.96491228 0.96460177]\n",
            "Average Accuracy: 0.9508150908244062\n"
          ]
        }
      ]
    },
    {
      "cell_type": "markdown",
      "source": [
        "**8. Write a Python program to load a dataset from a CSV file, apply Logistic Regression, and evaluate its accuracy.**"
      ],
      "metadata": {
        "id": "na2A2mlxBNju"
      }
    },
    {
      "cell_type": "code",
      "source": [
        "# Import libraries\n",
        "import pandas as pd\n",
        "from sklearn.model_selection import train_test_split\n",
        "from sklearn.linear_model import LogisticRegression\n",
        "from sklearn.metrics import accuracy_score\n",
        "\n",
        "# Load dataset from CSV file\n",
        "# Make sure to update the file path and column names as needed\n",
        "data = pd.read_csv('your_dataset.csv')  # Replace with your file path\n",
        "\n",
        "# Preview dataset structure\n",
        "print(\"Dataset preview:\\n\", data.head())\n",
        "\n",
        "# Separate features and target\n",
        "# Replace 'target_column' with the actual name of your target column\n",
        "X = data.drop('target_column', axis=1)  # Features\n",
        "y = data['target_column']               # Target\n",
        "\n",
        "# Split data into training and testing sets (80% train, 20% test)\n",
        "X_train, X_test, y_train, y_test = train_test_split(X, y, test_size=0.2, random_state=42)\n",
        "\n",
        "# Create and train Logistic Regression model\n",
        "model = LogisticRegression(solver='liblinear', max_iter=1000)\n",
        "model.fit(X_train, y_train)\n",
        "\n",
        "# Predict on test set\n",
        "y_pred = model.predict(X_test)\n",
        "\n",
        "# Calculate and print accuracy\n",
        "accuracy = accuracy_score(y_test, y_pred)\n",
        "print(\"Logistic Regression Accuracy:\", accuracy)\n"
      ],
      "metadata": {
        "id": "ouqaqOHlBRsm"
      },
      "execution_count": null,
      "outputs": []
    },
    {
      "cell_type": "markdown",
      "source": [
        "9. **Write a Python program to apply RandomizedSearchCV for tuning hyperparameters (C, penalty, solver) in Logistic Regression. Print the best parameters and accuracy.**"
      ],
      "metadata": {
        "id": "jVLfDUgoBVcH"
      }
    },
    {
      "cell_type": "code",
      "source": [
        "# Import libraries\n",
        "from sklearn.datasets import load_breast_cancer\n",
        "from sklearn.model_selection import train_test_split, RandomizedSearchCV\n",
        "from sklearn.linear_model import LogisticRegression\n",
        "from sklearn.metrics import accuracy_score\n",
        "import numpy as np\n",
        "\n",
        "# Load the dataset\n",
        "data = load_breast_cancer()\n",
        "X = data.data\n",
        "y = data.target\n",
        "\n",
        "# Split dataset into training and testing sets\n",
        "X_train, X_test, y_train, y_test = train_test_split(X, y, test_size=0.2, random_state=42)\n",
        "\n",
        "# Define the hyperparameter grid\n",
        "param_distributions = {\n",
        "    'C': np.logspace(-3, 3, 10),                    # Regularization strength\n",
        "    'penalty': ['l1', 'l2'],                        # Regularization type\n",
        "    'solver': ['liblinear', 'saga']                 # Compatible solvers\n",
        "}\n",
        "\n",
        "# Create Logistic Regression model\n",
        "log_reg = LogisticRegression(max_iter=1000)\n",
        "\n",
        "# Use RandomizedSearchCV\n",
        "random_search = RandomizedSearchCV(\n",
        "    log_reg,\n",
        "    param_distributions,\n",
        "    n_iter=10,               # Number of random combinations to try\n",
        "    cv=5,\n",
        "    scoring='accuracy',\n",
        "    random_state=42\n",
        ")\n",
        "\n",
        "# Fit the model\n",
        "random_search.fit(X_train, y_train)\n",
        "\n",
        "# Get best estimator and evaluate\n",
        "best_model = random_search.best_estimator_\n",
        "best_params = random_search.best_params_\n",
        "y_pred = best_model.predict(X_test)\n",
        "accuracy = accuracy_score(y_test, y_pred)\n",
        "\n",
        "# Print results\n",
        "print(\"Best Parameters:\", best_params)\n",
        "print(\"Test Accuracy with Best Parameters:\", accuracy)\n"
      ],
      "metadata": {
        "id": "4-Pz2FBeBno1"
      },
      "execution_count": null,
      "outputs": []
    },
    {
      "cell_type": "markdown",
      "source": [
        "**10. Write a Python program to implement One-vs-One (OvO) Multiclass Logistic Regression and print accuracy.**"
      ],
      "metadata": {
        "id": "VznRRAZHBg0c"
      }
    },
    {
      "cell_type": "code",
      "source": [
        "from sklearn.datasets import load_iris\n",
        "from sklearn.model_selection import train_test_split\n",
        "from sklearn.linear_model import LogisticRegression\n",
        "from sklearn.multiclass import OneVsOneClassifier\n",
        "from sklearn.metrics import accuracy_score\n",
        "\n",
        "# Load Iris dataset\n",
        "iris = load_iris()\n",
        "X, y = iris.data, iris.target\n",
        "\n",
        "# Split into train and test sets\n",
        "X_train, X_test, y_train, y_test = train_test_split(X, y, test_size=0.2, random_state=42)\n",
        "\n",
        "# Create base Logistic Regression model\n",
        "base_lr = LogisticRegression(solver='liblinear', max_iter=200)\n",
        "\n",
        "# Wrap it with One-vs-One classifier\n",
        "ovo_clf = OneVsOneClassifier(base_lr)\n",
        "\n",
        "# Train OvO model\n",
        "ovo_clf.fit(X_train, y_train)\n",
        "\n",
        "# Predict on test set\n",
        "y_pred = ovo_clf.predict(X_test)\n",
        "\n",
        "# Calculate and print accuracy\n",
        "accuracy = accuracy_score(y_test, y_pred)\n",
        "print(\"One-vs-One Logistic Regression Accuracy:\", accuracy)\n"
      ],
      "metadata": {
        "colab": {
          "base_uri": "https://localhost:8080/"
        },
        "id": "HS3sW1tMBo0M",
        "outputId": "3f035c6b-8ea8-4bae-8e63-2ffb467f5d8c"
      },
      "execution_count": 21,
      "outputs": [
        {
          "output_type": "stream",
          "name": "stdout",
          "text": [
            "One-vs-One Logistic Regression Accuracy: 1.0\n"
          ]
        }
      ]
    },
    {
      "cell_type": "markdown",
      "source": [
        "11. Write a Python program to train a Logistic Regression model and visualize the confusion matrix for binary\n",
        "classificationM **bold text**"
      ],
      "metadata": {
        "id": "sonD_FlFBs8D"
      }
    },
    {
      "cell_type": "code",
      "source": [
        "import matplotlib.pyplot as plt\n",
        "import seaborn as sns\n",
        "from sklearn.datasets import load_breast_cancer\n",
        "from sklearn.linear_model import LogisticRegression\n",
        "from sklearn.model_selection import train_test_split\n",
        "from sklearn.metrics import confusion_matrix, accuracy_score\n",
        "\n",
        "# Load dataset\n",
        "data = load_breast_cancer()\n",
        "X, y = data.data, data.target\n",
        "\n",
        "# Split into train and test\n",
        "X_train, X_test, y_train, y_test = train_test_split(X, y, test_size=0.2, random_state=42)\n",
        "\n",
        "# Train Logistic Regression model\n",
        "model = LogisticRegression(solver='liblinear', max_iter=1000)\n",
        "model.fit(X_train, y_train)\n",
        "\n",
        "# Predict on test data\n",
        "y_pred = model.predict(X_test)\n",
        "\n",
        "# Compute confusion matrix\n",
        "cm = confusion_matrix(y_test, y_pred)\n",
        "\n",
        "# Print accuracy\n",
        "accuracy = accuracy_score(y_test, y_pred)\n",
        "print(f\"Accuracy: {accuracy:.4f}\")\n",
        "\n",
        "# Visualize confusion matrix using seaborn heatmap\n",
        "plt.figure(figsize=(6,5))\n",
        "sns.heatmap(cm, annot=True, fmt='d', cmap='Blues',\n",
        "            xticklabels=['Predicted Negative', 'Predicted Positive'],\n",
        "            yticklabels=['Actual Negative', 'Actual Positive'])\n",
        "plt.title('Confusion Matrix')\n",
        "plt.ylabel('Actual')\n",
        "plt.xlabel('Predicted')\n",
        "plt.show()\n"
      ],
      "metadata": {
        "colab": {
          "base_uri": "https://localhost:8080/",
          "height": 504
        },
        "id": "rYm-1AV8B5yM",
        "outputId": "78f74d20-f5d2-4e5b-a921-dbb2625aa50e"
      },
      "execution_count": 20,
      "outputs": [
        {
          "output_type": "stream",
          "name": "stdout",
          "text": [
            "Accuracy: 0.9561\n"
          ]
        },
        {
          "output_type": "display_data",
          "data": {
            "text/plain": [
              "<Figure size 600x500 with 2 Axes>"
            ],
            "image/png": "[encoded data removed]"
          },
          "metadata": {}
        }
      ]
    },
    {
      "cell_type": "markdown",
      "source": [
        "**12. Write a Python program to train a Logistic Regression model and evaluate its performance using Precision, Recall, and F1-ScoreM.**"
      ],
      "metadata": {
        "id": "B9AgMIuLB6-D"
      }
    },
    {
      "cell_type": "code",
      "source": [
        "from sklearn.datasets import load_breast_cancer\n",
        "from sklearn.linear_model import LogisticRegression\n",
        "from sklearn.model_selection import train_test_split\n",
        "from sklearn.metrics import precision_score, recall_score, f1_score\n",
        "\n",
        "# Load dataset\n",
        "data = load_breast_cancer()\n",
        "X, y = data.data, data.target\n",
        "\n",
        "# Split into train and test sets\n",
        "X_train, X_test, y_train, y_test = train_test_split(X, y, test_size=0.2, random_state=42)\n",
        "\n",
        "# Train Logistic Regression model\n",
        "model = LogisticRegression(solver='liblinear', max_iter=1000)\n",
        "model.fit(X_train, y_train)\n",
        "\n",
        "# Predict on test data\n",
        "y_pred = model.predict(X_test)\n",
        "\n",
        "# Calculate metrics\n",
        "precision = precision_score(y_test, y_pred)\n",
        "recall = recall_score(y_test, y_pred)\n",
        "f1 = f1_score(y_test, y_pred)\n",
        "\n",
        "# Print results\n",
        "print(f\"Precision: {precision:.4f}\")\n",
        "print(f\"Recall:    {recall:.4f}\")\n",
        "print(f\"F1-Score:  {f1:.4f}\")\n"
      ],
      "metadata": {
        "colab": {
          "base_uri": "https://localhost:8080/"
        },
        "id": "RMY-9clnCGl8",
        "outputId": "0366bf8b-6436-4f3c-b882-3c30130c4abe"
      },
      "execution_count": 18,
      "outputs": [
        {
          "output_type": "stream",
          "name": "stdout",
          "text": [
            "Precision: 0.9459\n",
            "Recall:    0.9859\n",
            "F1-Score:  0.9655\n"
          ]
        }
      ]
    },
    {
      "cell_type": "markdown",
      "source": [
        "**13. Write a Python program to train a Logistic Regression model on imbalanced data and apply class weights to improve model performance.**"
      ],
      "metadata": {
        "id": "7dMyeMWDCIej"
      }
    },
    {
      "cell_type": "code",
      "source": [
        "from sklearn.datasets import make_classification\n",
        "from sklearn.linear_model import LogisticRegression\n",
        "from sklearn.model_selection import train_test_split\n",
        "from sklearn.metrics import classification_report\n",
        "from collections import Counter\n",
        "\n",
        "# Create an imbalanced dataset\n",
        "X, y = make_classification(\n",
        "    n_samples=5000,\n",
        "    n_features=20,\n",
        "    n_classes=2,\n",
        "    weights=[0.9, 0.1],  # 90% of class 0, 10% of class 1 (imbalanced)\n",
        "    flip_y=0,\n",
        "    random_state=42\n",
        ")\n",
        "\n",
        "print(\"Original class distribution:\", Counter(y))\n",
        "\n",
        "# Split dataset\n",
        "X_train, X_test, y_train, y_test = train_test_split(X, y, test_size=0.2, random_state=42)\n",
        "\n",
        "# Train Logistic Regression without class weights\n",
        "model_no_weights = LogisticRegression(solver='liblinear', max_iter=1000)\n",
        "model_no_weights.fit(X_train, y_train)\n",
        "y_pred_no_weights = model_no_weights.predict(X_test)\n",
        "\n",
        "print(\"\\nClassification Report WITHOUT class weights:\")\n",
        "print(classification_report(y_test, y_pred_no_weights))\n",
        "\n",
        "# Train Logistic Regression WITH class weights (balanced)\n",
        "model_weights = LogisticRegression(solver='liblinear', class_weight='balanced', max_iter=1000)\n",
        "model_weights.fit(X_train, y_train)\n",
        "y_pred_weights = model_weights.predict(X_test)\n",
        "\n",
        "print(\"\\nClassification Report WITH class weights:\")\n",
        "print(classification_report(y_test, y_pred_weights))\n"
      ],
      "metadata": {
        "colab": {
          "base_uri": "https://localhost:8080/"
        },
        "id": "kPxotAcjCWqj",
        "outputId": "d0765349-4dbb-4821-c792-12d904c578c6"
      },
      "execution_count": 17,
      "outputs": [
        {
          "output_type": "stream",
          "name": "stdout",
          "text": [
            "Original class distribution: Counter({np.int64(0): 4500, np.int64(1): 500})\n",
            "\n",
            "Classification Report WITHOUT class weights:\n",
            "              precision    recall  f1-score   support\n",
            "\n",
            "           0       0.95      0.98      0.96       903\n",
            "           1       0.71      0.48      0.58        97\n",
            "\n",
            "    accuracy                           0.93      1000\n",
            "   macro avg       0.83      0.73      0.77      1000\n",
            "weighted avg       0.92      0.93      0.93      1000\n",
            "\n",
            "\n",
            "Classification Report WITH class weights:\n",
            "              precision    recall  f1-score   support\n",
            "\n",
            "           0       0.99      0.86      0.92       903\n",
            "           1       0.41      0.89      0.56        97\n",
            "\n",
            "    accuracy                           0.87      1000\n",
            "   macro avg       0.70      0.88      0.74      1000\n",
            "weighted avg       0.93      0.87      0.89      1000\n",
            "\n"
          ]
        }
      ]
    },
    {
      "cell_type": "markdown",
      "source": [
        "**14. Write a Python program to train Logistic Regression on the Titanic dataset, handle missing values, and evaluate performanceM**"
      ],
      "metadata": {
        "id": "hL8FQQxqCTME"
      }
    },
    {
      "cell_type": "code",
      "source": [
        "import pandas as pd\n",
        "from sklearn.linear_model import LogisticRegression\n",
        "from sklearn.model_selection import train_test_split\n",
        "from sklearn.metrics import accuracy_score, classification_report\n",
        "from sklearn.impute import SimpleImputer\n",
        "from sklearn.preprocessing import OneHotEncoder\n",
        "from sklearn.compose import ColumnTransformer\n",
        "from sklearn.pipeline import Pipeline\n",
        "\n",
        "# Load Titanic dataset (using seaborn for demo)\n",
        "import seaborn as sns\n",
        "titanic = sns.load_dataset('titanic')\n",
        "\n",
        "# Preview data\n",
        "print(titanic.head())\n",
        "\n",
        "# Select features and target\n",
        "# We'll use some common features\n",
        "features = ['pclass', 'sex', 'age', 'sibsp', 'parch', 'fare', 'embarked']\n",
        "target = 'survived'\n",
        "\n",
        "X = titanic[features]\n",
        "y = titanic[target]\n",
        "\n",
        "# Separate numerical and categorical columns\n",
        "num_features = ['age', 'sibsp', 'parch', 'fare']\n",
        "cat_features = ['pclass', 'sex', 'embarked']\n",
        "\n",
        "# Define preprocessing for numerical data: fill missing values with median\n",
        "num_transformer = SimpleImputer(strategy='median')\n",
        "\n",
        "# Define preprocessing for categorical data: fill missing with most frequent, then one-hot encode\n",
        "cat_transformer = Pipeline(steps=[\n",
        "    ('imputer', SimpleImputer(strategy='most_frequent')),\n",
        "    ('onehot', OneHotEncoder(handle_unknown='ignore'))\n",
        "])\n",
        "\n",
        "# Combine preprocessors\n",
        "preprocessor = ColumnTransformer(\n",
        "    transformers=[\n",
        "        ('num', num_transformer, num_features),\n",
        "        ('cat', cat_transformer, cat_features)\n",
        "    ])\n",
        "\n",
        "# Create the full pipeline with preprocessing and Logistic Regression\n",
        "model = Pipeline(steps=[\n",
        "    ('preprocessor', preprocessor),\n",
        "    ('classifier', LogisticRegression(max_iter=1000))\n",
        "])\n",
        "\n",
        "# Split dataset\n",
        "X_train, X_test, y_train, y_test = train_test_split(X, y, test_size=0.2, random_state=42)\n",
        "\n",
        "# Train model\n",
        "model.fit(X_train, y_train)\n",
        "\n",
        "# Predict\n",
        "y_pred = model.predict(X_test)\n",
        "\n",
        "# Evaluate\n",
        "print(\"Accuracy:\", accuracy_score(y_test, y_pred))\n",
        "print(\"\\nClassification Report:\\n\", classification_report(y_test, y_pred))\n"
      ],
      "metadata": {
        "colab": {
          "base_uri": "https://localhost:8080/"
        },
        "id": "r7AHZowcCmfT",
        "outputId": "753aa6a9-aa9d-4a90-fb9d-9f601dc70ac8"
      },
      "execution_count": 16,
      "outputs": [
        {
          "output_type": "stream",
          "name": "stdout",
          "text": [
            "   survived  pclass     sex   age  sibsp  parch     fare embarked  class  \\\n",
            "0         0       3    male  22.0      1      0   7.2500        S  Third   \n",
            "1         1       1  female  38.0      1      0  71.2833        C  First   \n",
            "2         1       3  female  26.0      0      0   7.9250        S  Third   \n",
            "3         1       1  female  35.0      1      0  53.1000        S  First   \n",
            "4         0       3    male  35.0      0      0   8.0500        S  Third   \n",
            "\n",
            "     who  adult_male deck  embark_town alive  alone  \n",
            "0    man        True  NaN  Southampton    no  False  \n",
            "1  woman       False    C    Cherbourg   yes  False  \n",
            "2  woman       False  NaN  Southampton   yes   True  \n",
            "3  woman       False    C  Southampton   yes  False  \n",
            "4    man        True  NaN  Southampton    no   True  \n",
            "Accuracy: 0.7988826815642458\n",
            "\n",
            "Classification Report:\n",
            "               precision    recall  f1-score   support\n",
            "\n",
            "           0       0.81      0.86      0.83       105\n",
            "           1       0.78      0.72      0.75        74\n",
            "\n",
            "    accuracy                           0.80       179\n",
            "   macro avg       0.80      0.79      0.79       179\n",
            "weighted avg       0.80      0.80      0.80       179\n",
            "\n"
          ]
        }
      ]
    },
    {
      "cell_type": "markdown",
      "source": [
        "**15.  Write a Python program to apply feature scaling (Standardization) before training a Logistic Regression model. Evaluate its accuracy and compare results with and without scaling**"
      ],
      "metadata": {
        "id": "WscdtGDXCUNN"
      }
    },
    {
      "cell_type": "code",
      "source": [
        "from sklearn.datasets import load_breast_cancer\n",
        "from sklearn.linear_model import LogisticRegression\n",
        "from sklearn.model_selection import train_test_split\n",
        "from sklearn.preprocessing import StandardScaler\n",
        "from sklearn.metrics import accuracy_score\n",
        "\n",
        "# Load dataset\n",
        "data = load_breast_cancer()\n",
        "X, y = data.data, data.target\n",
        "\n",
        "# Split into train and test sets\n",
        "X_train, X_test, y_train, y_test = train_test_split(X, y, test_size=0.2, random_state=42)\n",
        "\n",
        "# --- Logistic Regression WITHOUT scaling ---\n",
        "model_no_scaling = LogisticRegression(solver='liblinear', max_iter=1000)\n",
        "model_no_scaling.fit(X_train, y_train)\n",
        "y_pred_no_scaling = model_no_scaling.predict(X_test)\n",
        "accuracy_no_scaling = accuracy_score(y_test, y_pred_no_scaling)\n",
        "\n",
        "# --- Logistic Regression WITH scaling ---\n",
        "scaler = StandardScaler()\n",
        "X_train_scaled = scaler.fit_transform(X_train)\n",
        "X_test_scaled = scaler.transform(X_test)\n",
        "\n",
        "model_scaling = LogisticRegression(solver='liblinear', max_iter=1000)\n",
        "model_scaling.fit(X_train_scaled, y_train)\n",
        "y_pred_scaling = model_scaling.predict(X_test_scaled)\n",
        "accuracy_scaling = accuracy_score(y_test, y_pred_scaling)\n",
        "\n",
        "# Print results\n",
        "print(f\"Accuracy without scaling: {accuracy_no_scaling:.4f}\")\n",
        "print(f\"Accuracy with scaling:    {accuracy_scaling:.4f}\")\n"
      ],
      "metadata": {
        "colab": {
          "base_uri": "https://localhost:8080/"
        },
        "id": "4dHASBMVCyoj",
        "outputId": "6dd4f77e-3711-4f8b-bdd6-d93eb6af320b"
      },
      "execution_count": 15,
      "outputs": [
        {
          "output_type": "stream",
          "name": "stdout",
          "text": [
            "Accuracy without scaling: 0.9561\n",
            "Accuracy with scaling:    0.9737\n"
          ]
        }
      ]
    },
    {
      "cell_type": "markdown",
      "source": [
        "**16. Write a Python program to train Logistic Regression and evaluate its performance using ROC-AUC score.**"
      ],
      "metadata": {
        "id": "QJOb30m3C1Zb"
      }
    },
    {
      "cell_type": "code",
      "source": [
        "from sklearn.datasets import load_breast_cancer\n",
        "from sklearn.linear_model import LogisticRegression\n",
        "from sklearn.model_selection import train_test_split\n",
        "from sklearn.metrics import roc_auc_score, roc_curve\n",
        "import matplotlib.pyplot as plt\n",
        "\n",
        "# Load dataset\n",
        "data = load_breast_cancer()\n",
        "X, y = data.data, data.target\n",
        "\n",
        "# Split into train and test sets\n",
        "X_train, X_test, y_train, y_test = train_test_split(X, y, test_size=0.2, random_state=42)\n",
        "\n",
        "# Train Logistic Regression model\n",
        "model = LogisticRegression(solver='liblinear', max_iter=1000)\n",
        "model.fit(X_train, y_train)\n",
        "\n",
        "# Predict probabilities for positive class\n",
        "y_probs = model.predict_proba(X_test)[:, 1]\n",
        "\n",
        "# Calculate ROC-AUC score\n",
        "roc_auc = roc_auc_score(y_test, y_probs)\n",
        "print(f\"ROC-AUC Score: {roc_auc:.4f}\")\n",
        "\n",
        "# Optional: Plot ROC curve\n",
        "fpr, tpr, thresholds = roc_curve(y_test, y_probs)\n",
        "plt.plot(fpr, tpr, label=f\"ROC Curve (AUC = {roc_auc:.4f})\")\n",
        "plt.plot([0, 1], [0, 1], 'k--')  # Diagonal line\n",
        "plt.xlabel(\"False Positive Rate\")\n",
        "plt.ylabel(\"True Positive Rate\")\n",
        "plt.title(\"ROC Curve\")\n",
        "plt.legend()\n",
        "plt.show()\n"
      ],
      "metadata": {
        "colab": {
          "base_uri": "https://localhost:8080/",
          "height": 489
        },
        "id": "zDzTXSQYC7c7",
        "outputId": "cea9e617-1b23-4ddb-b466-7fa89a4b8699"
      },
      "execution_count": 14,
      "outputs": [
        {
          "output_type": "stream",
          "name": "stdout",
          "text": [
            "ROC-AUC Score: 0.9977\n"
          ]
        },
        {
          "output_type": "display_data",
          "data": {
            "text/plain": [
              "<Figure size 640x480 with 1 Axes>"
            ],
            "image/png": "[encoded data removed]"
          },
          "metadata": {}
        }
      ]
    },
    {
      "cell_type": "markdown",
      "source": [
        "**17. Write a Python program to train Logistic Regression using a custom learning rate (C=0.5) and evaluate accuracy.**"
      ],
      "metadata": {
        "id": "JXiaTbhYDGYr"
      }
    },
    {
      "cell_type": "code",
      "source": [
        "from sklearn.datasets import load_breast_cancer\n",
        "from sklearn.linear_model import LogisticRegression\n",
        "from sklearn.model_selection import train_test_split\n",
        "from sklearn.metrics import accuracy_score\n",
        "\n",
        "# Load dataset\n",
        "data = load_breast_cancer()\n",
        "X, y = data.data, data.target\n",
        "\n",
        "# Split dataset into train and test sets\n",
        "X_train, X_test, y_train, y_test = train_test_split(X, y, test_size=0.2, random_state=42)\n",
        "\n",
        "# Train Logistic Regression with custom C=0.5\n",
        "model = LogisticRegression(C=0.5, solver='liblinear', max_iter=1000)\n",
        "model.fit(X_train, y_train)\n",
        "\n",
        "# Predict on test set\n",
        "y_pred = model.predict(X_test)\n",
        "\n",
        "# Evaluate accuracy\n",
        "accuracy = accuracy_score(y_test, y_pred)\n",
        "print(f\"Accuracy with C=0.5: {accuracy:.4f}\")\n"
      ],
      "metadata": {
        "colab": {
          "base_uri": "https://localhost:8080/"
        },
        "id": "q5yxHtGADMqS",
        "outputId": "3bb48a7b-62ed-4590-8629-153ef855d316"
      },
      "execution_count": 13,
      "outputs": [
        {
          "output_type": "stream",
          "name": "stdout",
          "text": [
            "Accuracy with C=0.5: 0.9561\n"
          ]
        }
      ]
    },
    {
      "cell_type": "markdown",
      "source": [
        "**18. Write a Python program to train Logistic Regression and identify important features based on model coefficients.**"
      ],
      "metadata": {
        "id": "Jpq2LTA1DOcT"
      }
    },
    {
      "cell_type": "code",
      "source": [
        "import numpy as np\n",
        "from sklearn.datasets import load_breast_cancer\n",
        "from sklearn.linear_model import LogisticRegression\n",
        "from sklearn.model_selection import train_test_split\n",
        "\n",
        "# Load dataset\n",
        "data = load_breast_cancer()\n",
        "X, y = data.data, data.target\n",
        "feature_names = data.feature_names\n",
        "\n",
        "# Split dataset\n",
        "X_train, X_test, y_train, y_test = train_test_split(X, y, test_size=0.2, random_state=42)\n",
        "\n",
        "# Train Logistic Regression\n",
        "model = LogisticRegression(solver='liblinear', max_iter=1000)\n",
        "model.fit(X_train, y_train)\n",
        "\n",
        "# Get absolute coefficients and their corresponding feature names\n",
        "coef_abs = np.abs(model.coef_[0])\n",
        "feature_importance = sorted(zip(feature_names, coef_abs), key=lambda x: x[1], reverse=True)\n",
        "\n",
        "# Print important features sorted by coefficient magnitude\n",
        "print(\"Feature Importance based on Logistic Regression coefficients:\")\n",
        "for feature, importance in feature_importance:\n",
        "    print(f\"{feature}: {importance:.4f}\")\n"
      ],
      "metadata": {
        "colab": {
          "base_uri": "https://localhost:8080/"
        },
        "id": "xSt-Q5n_DXhD",
        "outputId": "1c7bdd3b-c99a-4e11-dfed-1908836bbafe"
      },
      "execution_count": 12,
      "outputs": [
        {
          "output_type": "stream",
          "name": "stdout",
          "text": [
            "Feature Importance based on Logistic Regression coefficients:\n",
            "mean radius: 2.1325\n",
            "worst concavity: 1.6180\n",
            "texture error: 1.4430\n",
            "worst radius: 1.2321\n",
            "worst compactness: 1.2090\n",
            "worst symmetry: 0.7428\n",
            "mean concavity: 0.6519\n",
            "worst concave points: 0.6153\n",
            "mean compactness: 0.4156\n",
            "worst texture: 0.4046\n",
            "mean concave points: 0.3445\n",
            "perimeter error: 0.3039\n",
            "worst smoothness: 0.2626\n",
            "mean symmetry: 0.2076\n",
            "mean texture: 0.1528\n",
            "mean perimeter: 0.1451\n",
            "mean smoothness: 0.1426\n",
            "worst fractal dimension: 0.1170\n",
            "area error: 0.0726\n",
            "radius error: 0.0500\n",
            "concavity error: 0.0449\n",
            "symmetry error: 0.0418\n",
            "concave points error: 0.0377\n",
            "worst perimeter: 0.0362\n",
            "mean fractal dimension: 0.0298\n",
            "worst area: 0.0271\n",
            "smoothness error: 0.0162\n",
            "fractal dimension error: 0.0056\n",
            "compactness error: 0.0019\n",
            "mean area: 0.0008\n"
          ]
        }
      ]
    },
    {
      "cell_type": "markdown",
      "source": [
        "**19. Write a Python program to train Logistic Regression and evaluate its performance using Cohen’s Kappa Score.**"
      ],
      "metadata": {
        "id": "ySF6iaXzDbY7"
      }
    },
    {
      "cell_type": "code",
      "source": [
        "from sklearn.datasets import load_breast_cancer\n",
        "from sklearn.linear_model import LogisticRegression\n",
        "from sklearn.model_selection import train_test_split\n",
        "from sklearn.metrics import cohen_kappa_score\n",
        "\n",
        "# Load dataset\n",
        "data = load_breast_cancer()\n",
        "X, y = data.data, data.target\n",
        "\n",
        "# Split into train and test sets\n",
        "X_train, X_test, y_train, y_test = train_test_split(X, y, test_size=0.2, random_state=42)\n",
        "\n",
        "# Train Logistic Regression model\n",
        "model = LogisticRegression(solver='liblinear', max_iter=1000)\n",
        "model.fit(X_train, y_train)\n",
        "\n",
        "# Predict on test set\n",
        "y_pred = model.predict(X_test)\n",
        "\n",
        "# Calculate Cohen's Kappa score\n",
        "kappa = cohen_kappa_score(y_test, y_pred)\n",
        "print(f\"Cohen's Kappa Score: {kappa:.4f}\")\n"
      ],
      "metadata": {
        "colab": {
          "base_uri": "https://localhost:8080/"
        },
        "id": "oCFITDAdDgGT",
        "outputId": "c311dc7a-9b65-4c51-b558-6a12f581d468"
      },
      "execution_count": 11,
      "outputs": [
        {
          "output_type": "stream",
          "name": "stdout",
          "text": [
            "Cohen's Kappa Score: 0.9053\n"
          ]
        }
      ]
    },
    {
      "cell_type": "markdown",
      "source": [
        "**20. Write a Python program to train Logistic Regression and visualize the Precision-Recall Curve for binary classification.**"
      ],
      "metadata": {
        "id": "uUE5JJ3hDifz"
      }
    },
    {
      "cell_type": "code",
      "source": [
        "import matplotlib.pyplot as plt\n",
        "from sklearn.datasets import load_breast_cancer\n",
        "from sklearn.linear_model import LogisticRegression\n",
        "from sklearn.model_selection import train_test_split\n",
        "from sklearn.metrics import precision_recall_curve, average_precision_score\n",
        "\n",
        "# Load dataset\n",
        "data = load_breast_cancer()\n",
        "X, y = data.data, data.target\n",
        "\n",
        "# Split into train and test sets\n",
        "X_train, X_test, y_train, y_test = train_test_split(X, y, test_size=0.2, random_state=42)\n",
        "\n",
        "# Train Logistic Regression model\n",
        "model = LogisticRegression(solver='liblinear', max_iter=1000)\n",
        "model.fit(X_train, y_train)\n",
        "\n",
        "# Predict probabilities for the positive class\n",
        "y_scores = model.predict_proba(X_test)[:, 1]\n",
        "\n",
        "# Calculate precision-recall curve\n",
        "precision, recall, thresholds = precision_recall_curve(y_test, y_scores)\n",
        "\n",
        "# Calculate average precision score\n",
        "avg_precision = average_precision_score(y_test, y_scores)\n",
        "\n",
        "# Plot Precision-Recall curve\n",
        "plt.figure(figsize=(8,6))\n",
        "plt.plot(recall, precision, label=f'Precision-Recall curve (AP = {avg_precision:.4f})')\n",
        "plt.xlabel('Recall')\n",
        "plt.ylabel('Precision')\n",
        "plt.title('Precision-Recall Curve')\n",
        "plt.legend()\n",
        "plt.grid(True)\n",
        "plt.show()\n"
      ],
      "metadata": {
        "colab": {
          "base_uri": "https://localhost:8080/",
          "height": 564
        },
        "id": "2ZHI-PuTDzWE",
        "outputId": "1954cc55-0df0-4823-ab07-75841c0f78e8"
      },
      "execution_count": 10,
      "outputs": [
        {
          "output_type": "display_data",
          "data": {
            "text/plain": [
              "<Figure size 800x600 with 1 Axes>"
            ],
            "image/png": "[encoded data removed]"
          },
          "metadata": {}
        }
      ]
    },
    {
      "cell_type": "markdown",
      "source": [
        "**21. Write a Python program to train Logistic Regression with different solvers (liblinear, saga, lbfgs) and compare their accuracy.**"
      ],
      "metadata": {
        "id": "yI4kcLTQDvq8"
      }
    },
    {
      "cell_type": "code",
      "source": [
        "from sklearn.datasets import load_breast_cancer\n",
        "from sklearn.linear_model import LogisticRegression\n",
        "from sklearn.model_selection import train_test_split\n",
        "from sklearn.metrics import accuracy_score\n",
        "\n",
        "# Load dataset\n",
        "data = load_breast_cancer()\n",
        "X, y = data.data, data.target\n",
        "\n",
        "# Split dataset\n",
        "X_train, X_test, y_train, y_test = train_test_split(X, y, test_size=0.2, random_state=42)\n",
        "\n",
        "# List of solvers to compare\n",
        "solvers = ['liblinear', 'saga', 'lbfgs']\n",
        "\n",
        "# Dictionary to store accuracy results\n",
        "accuracy_results = {}\n",
        "\n",
        "for solver in solvers:\n",
        "    # Some solvers require max_iter higher for convergence\n",
        "    model = LogisticRegression(solver=solver, max_iter=1000, random_state=42)\n",
        "    model.fit(X_train, y_train)\n",
        "    y_pred = model.predict(X_test)\n",
        "    accuracy = accuracy_score(y_test, y_pred)\n",
        "    accuracy_results[solver] = accuracy\n",
        "\n",
        "# Print accuracy results\n",
        "for solver, acc in accuracy_results.items():\n",
        "    print(f\"Solver: {solver} -> Accuracy: {acc:.4f}\")\n"
      ],
      "metadata": {
        "colab": {
          "base_uri": "https://localhost:8080/"
        },
        "id": "myXs8uXrD7Kj",
        "outputId": "7cdf7f78-5c7a-4de2-abed-1a13f3e349ad"
      },
      "execution_count": 9,
      "outputs": [
        {
          "output_type": "stream",
          "name": "stderr",
          "text": [
            "/usr/local/lib/python3.11/dist-packages/sklearn/linear_model/_sag.py:348: ConvergenceWarning: The max_iter was reached which means the coef_ did not converge\n",
            "  warnings.warn(\n"
          ]
        },
        {
          "output_type": "stream",
          "name": "stdout",
          "text": [
            "Solver: liblinear -> Accuracy: 0.9561\n",
            "Solver: saga -> Accuracy: 0.9649\n",
            "Solver: lbfgs -> Accuracy: 0.9561\n"
          ]
        },
        {
          "output_type": "stream",
          "name": "stderr",
          "text": [
            "/usr/local/lib/python3.11/dist-packages/sklearn/linear_model/_logistic.py:465: ConvergenceWarning: lbfgs failed to converge (status=1):\n",
            "STOP: TOTAL NO. OF ITERATIONS REACHED LIMIT.\n",
            "\n",
            "Increase the number of iterations (max_iter) or scale the data as shown in:\n",
            "    https://scikit-learn.org/stable/modules/preprocessing.html\n",
            "Please also refer to the documentation for alternative solver options:\n",
            "    https://scikit-learn.org/stable/modules/linear_model.html#logistic-regression\n",
            "  n_iter_i = _check_optimize_result(\n"
          ]
        }
      ]
    },
    {
      "cell_type": "markdown",
      "source": [
        "**22. Write a Python program to train Logistic Regression and evaluate its performance using Matthews Correlation Coefficient (MCC).**"
      ],
      "metadata": {
        "id": "r8RPRGFSD8E6"
      }
    },
    {
      "cell_type": "code",
      "source": [
        "from sklearn.datasets import load_breast_cancer\n",
        "from sklearn.linear_model import LogisticRegression\n",
        "from sklearn.model_selection import train_test_split\n",
        "from sklearn.metrics import matthews_corrcoef\n",
        "\n",
        "# Load dataset\n",
        "data = load_breast_cancer()\n",
        "X, y = data.data, data.target\n",
        "\n",
        "# Split dataset\n",
        "X_train, X_test, y_train, y_test = train_test_split(X, y, test_size=0.2, random_state=42)\n",
        "\n",
        "# Train Logistic Regression\n",
        "model = LogisticRegression(solver='liblinear', max_iter=1000)\n",
        "model.fit(X_train, y_train)\n",
        "\n",
        "# Predict on test set\n",
        "y_pred = model.predict(X_test)\n",
        "\n",
        "# Calculate Matthews Correlation Coefficient\n",
        "mcc = matthews_corrcoef(y_test, y_pred)\n",
        "print(f\"Matthews Correlation Coefficient (MCC): {mcc:.4f}\")\n"
      ],
      "metadata": {
        "colab": {
          "base_uri": "https://localhost:8080/"
        },
        "id": "nwfG2h2UEF-N",
        "outputId": "12932729-fd10-444a-c9fc-05ce538bad75"
      },
      "execution_count": 8,
      "outputs": [
        {
          "output_type": "stream",
          "name": "stdout",
          "text": [
            "Matthews Correlation Coefficient (MCC): 0.9068\n"
          ]
        }
      ]
    },
    {
      "cell_type": "markdown",
      "source": [
        "**23. Write a Python program to train Logistic Regression on both raw and standardized data. Compare their accuracy to see the impact of feature scaling.**"
      ],
      "metadata": {
        "id": "1M_-Gi5HEGdT"
      }
    },
    {
      "cell_type": "code",
      "source": [
        "from sklearn.datasets import load_breast_cancer\n",
        "from sklearn.linear_model import LogisticRegression\n",
        "from sklearn.model_selection import train_test_split\n",
        "from sklearn.preprocessing import StandardScaler\n",
        "from sklearn.metrics import accuracy_score\n",
        "\n",
        "# Load dataset\n",
        "data = load_breast_cancer()\n",
        "X, y = data.data, data.target\n",
        "\n",
        "# Split into train and test sets\n",
        "X_train, X_test, y_train, y_test = train_test_split(X, y, test_size=0.2, random_state=42)\n",
        "\n",
        "# Logistic Regression WITHOUT scaling\n",
        "model_raw = LogisticRegression(solver='liblinear', max_iter=1000)\n",
        "model_raw.fit(X_train, y_train)\n",
        "y_pred_raw = model_raw.predict(X_test)\n",
        "accuracy_raw = accuracy_score(y_test, y_pred_raw)\n",
        "\n",
        "# Logistic Regression WITH standardization\n",
        "scaler = StandardScaler()\n",
        "X_train_scaled = scaler.fit_transform(X_train)\n",
        "X_test_scaled = scaler.transform(X_test)\n",
        "\n",
        "model_scaled = LogisticRegression(solver='liblinear', max_iter=1000)\n",
        "model_scaled.fit(X_train_scaled, y_train)\n",
        "y_pred_scaled = model_scaled.predict(X_test_scaled)\n",
        "accuracy_scaled = accuracy_score(y_test, y_pred_scaled)\n",
        "\n",
        "print(f\"Accuracy without scaling: {accuracy_raw:.4f}\")\n",
        "print(f\"Accuracy with scaling:    {accuracy_scaled:.4f}\")\n"
      ],
      "metadata": {
        "colab": {
          "base_uri": "https://localhost:8080/"
        },
        "id": "YYmoM-cYENNz",
        "outputId": "a3741249-f0c3-4c37-b61c-992ee25e398f"
      },
      "execution_count": 7,
      "outputs": [
        {
          "output_type": "stream",
          "name": "stdout",
          "text": [
            "Accuracy without scaling: 0.9561\n",
            "Accuracy with scaling:    0.9737\n"
          ]
        }
      ]
    },
    {
      "cell_type": "markdown",
      "source": [
        "**24. Write a Python program to train Logistic Regression and find the optimal C (regularization strength) using cross-validation.**"
      ],
      "metadata": {
        "id": "tJP573JVEMta"
      }
    },
    {
      "cell_type": "code",
      "source": [
        "from sklearn.datasets import load_breast_cancer\n",
        "from sklearn.linear_model import LogisticRegression\n",
        "from sklearn.model_selection import GridSearchCV, train_test_split\n",
        "\n",
        "# Load dataset\n",
        "data = load_breast_cancer()\n",
        "X, y = data.data, data.target\n",
        "\n",
        "# Split into train and test sets\n",
        "X_train, X_test, y_train, y_test = train_test_split(X, y, test_size=0.2, random_state=42)\n",
        "\n",
        "# Define Logistic Regression model\n",
        "model = LogisticRegression(solver='liblinear', max_iter=1000)\n",
        "\n",
        "# Define parameter grid for C (inverse regularization strength)\n",
        "param_grid = {'C': [0.01, 0.1, 0.5, 1, 5, 10, 50, 100]}\n",
        "\n",
        "# Set up GridSearchCV with 5-fold cross-validation\n",
        "grid_search = GridSearchCV(model, param_grid, cv=5, scoring='accuracy')\n",
        "\n",
        "# Fit GridSearch to training data\n",
        "grid_search.fit(X_train, y_train)\n",
        "\n",
        "# Best C value\n",
        "best_C = grid_search.best_params_['C']\n",
        "best_score = grid_search.best_score_\n",
        "\n",
        "print(f\"Best C value found: {best_C}\")\n",
        "print(f\"Best cross-validation accuracy: {best_score:.4f}\")\n",
        "\n",
        "# Optional: Evaluate on test set using best model\n",
        "best_model = grid_search.best_estimator_\n",
        "test_accuracy = best_model.score(X_test, y_test)\n",
        "print(f\"Test set accuracy with best C: {test_accuracy:.4f}\")\n"
      ],
      "metadata": {
        "colab": {
          "base_uri": "https://localhost:8080/"
        },
        "id": "alQIf1SzEdVz",
        "outputId": "df650cce-82d6-4df9-fa96-fa57afd47a2c"
      },
      "execution_count": 6,
      "outputs": [
        {
          "output_type": "stream",
          "name": "stdout",
          "text": [
            "Best C value found: 10\n",
            "Best cross-validation accuracy: 0.9626\n",
            "Test set accuracy with best C: 0.9561\n"
          ]
        }
      ]
    },
    {
      "cell_type": "markdown",
      "source": [
        "**25. Write a Python program to train Logistic Regression, save the trained model using joblib, and load it again to make predictions.**"
      ],
      "metadata": {
        "id": "H200wSqgEhRj"
      }
    },
    {
      "cell_type": "code",
      "source": [
        "from sklearn.datasets import load_breast_cancer\n",
        "from sklearn.linear_model import LogisticRegression\n",
        "from sklearn.model_selection import train_test_split\n",
        "from sklearn.metrics import accuracy_score\n",
        "import joblib\n",
        "\n",
        "# Load dataset\n",
        "data = load_breast_cancer()\n",
        "X, y = data.data, data.target\n",
        "\n",
        "# Split dataset\n",
        "X_train, X_test, y_train, y_test = train_test_split(X, y, test_size=0.2, random_state=42)\n",
        "\n",
        "# Train Logistic Regression model\n",
        "model = LogisticRegression(solver='liblinear', max_iter=1000)\n",
        "model.fit(X_train, y_train)\n",
        "\n",
        "# Save the trained model to a file\n",
        "joblib.dump(model, 'logistic_regression_model.joblib')\n",
        "\n",
        "# Load the model from the file\n",
        "loaded_model = joblib.load('logistic_regression_model.joblib')\n",
        "\n",
        "# Make predictions with the loaded model\n",
        "y_pred = loaded_model.predict(X_test)\n",
        "\n",
        "# Evaluate accuracy\n",
        "accuracy = accuracy_score(y_test, y_pred)\n",
        "print(f\"Accuracy of loaded model: {accuracy:.4f}\")\n"
      ],
      "metadata": {
        "colab": {
          "base_uri": "https://localhost:8080/"
        },
        "id": "-M_9qtCvExcm",
        "outputId": "e24d9001-613c-462b-b2e3-d13100c3a860"
      },
      "execution_count": 5,
      "outputs": [
        {
          "output_type": "stream",
          "name": "stdout",
          "text": [
            "Accuracy of loaded model: 0.9561\n"
          ]
        }
      ]
    },
    {
      "cell_type": "code",
      "source": [],
      "metadata": {
        "id": "ulBYD9YdEz0I"
      },
      "execution_count": null,
      "outputs": []
    }
  ]
}